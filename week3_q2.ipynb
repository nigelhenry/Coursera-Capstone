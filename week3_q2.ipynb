{
 "cells": [
  {
   "cell_type": "markdown",
   "metadata": {},
   "source": [
    "# Segmenting & Clustering Neighborhoods in Toronto: Part 2\n",
    "\n",
    "### Scrape Wikipedia page"
   ]
  },
  {
   "cell_type": "code",
   "execution_count": null,
   "metadata": {},
   "outputs": [],
   "source": [
    "# use requests get text\n",
    "import requests\n",
    "website_url = requests.get('https://en.wikipedia.org/wiki/List_of_postal_codes_of_Canada:_M').text\n",
    "\n",
    "# use BeautifulSoup to get the table\n",
    "from bs4 import BeautifulSoup\n",
    "soup = BeautifulSoup(website_url)\n",
    "my_table = soup.find('table',{'class':'wikitable sortable'})\n",
    "\n",
    "# read the table to a DataFrame\n",
    "from IPython.display import display_html\n",
    "import pandas as pd\n",
    "df = pd.read_html(str(my_table))[0]"
   ]
  },
  {
   "cell_type": "code",
   "execution_count": 158,
   "metadata": {},
   "outputs": [],
   "source": [
    "df = df.loc[df['Borough'] != 'Not assigned']\n",
    "\n",
    "# if the neighbourhood is \"Not assigned\", assign the Borough name as the Neighbourhood\n",
    "df.loc[df['Neighbourhood'] == 'Not assigned','Neighbourhood'] = df[df['Neighbourhood'] == 'Not assigned']['Borough']\n",
    "\n",
    "df = df.assign(Latitude = \"\", Longitude = \"\")"
   ]
  },
  {
   "cell_type": "markdown",
   "metadata": {},
   "source": [
    "### Geocode to get lattitude"
   ]
  },
  {
   "cell_type": "code",
   "execution_count": 178,
   "metadata": {},
   "outputs": [
    {
     "data": {
      "application/vnd.jupyter.widget-view+json": {
       "model_id": "48002a8baa554fa58ad806d3face3d18",
       "version_major": 2,
       "version_minor": 0
      },
      "text/plain": [
       "IntProgress(value=0, max=211)"
      ]
     },
     "metadata": {},
     "output_type": "display_data"
    },
    {
     "name": "stdout",
     "output_type": "stream",
     "text": [
      "Humewood-Cedarvale, Toronto, ON not found\n",
      "Caledonia-Fairbanks, Toronto, ON not found\n",
      "CFB Toronto, Toronto, ON not found\n",
      "Del Ray, Toronto, ON not found\n",
      "Canada Post Gateway Processing Centre, Toronto, ON not found\n",
      "Railway Lands, Toronto, ON not found\n",
      "Humber Bay Shores, Toronto, ON not found\n",
      "Beaumond Heights, Toronto, ON not found\n",
      "Stn A PO Boxes 25 The Esplanade, Toronto, ON not found\n",
      "Business Reply Mail Processing Centre 969 Eastern, Toronto, ON not found\n"
     ]
    },
    {
     "data": {
      "text/html": [
       "<div>\n",
       "<style scoped>\n",
       "    .dataframe tbody tr th:only-of-type {\n",
       "        vertical-align: middle;\n",
       "    }\n",
       "\n",
       "    .dataframe tbody tr th {\n",
       "        vertical-align: top;\n",
       "    }\n",
       "\n",
       "    .dataframe thead th {\n",
       "        text-align: right;\n",
       "    }\n",
       "</style>\n",
       "<table border=\"1\" class=\"dataframe\">\n",
       "  <thead>\n",
       "    <tr style=\"text-align: right;\">\n",
       "      <th></th>\n",
       "      <th>Postcode</th>\n",
       "      <th>Borough</th>\n",
       "      <th>Neighbourhood</th>\n",
       "      <th>Latitude</th>\n",
       "      <th>Longitude</th>\n",
       "    </tr>\n",
       "  </thead>\n",
       "  <tbody>\n",
       "    <tr>\n",
       "      <th>2</th>\n",
       "      <td>M3A</td>\n",
       "      <td>North York</td>\n",
       "      <td>Parkwoods</td>\n",
       "      <td>43.7588</td>\n",
       "      <td>-79.3202</td>\n",
       "    </tr>\n",
       "    <tr>\n",
       "      <th>3</th>\n",
       "      <td>M4A</td>\n",
       "      <td>North York</td>\n",
       "      <td>Victoria Village</td>\n",
       "      <td>43.7327</td>\n",
       "      <td>-79.3112</td>\n",
       "    </tr>\n",
       "    <tr>\n",
       "      <th>4</th>\n",
       "      <td>M5A</td>\n",
       "      <td>Downtown Toronto</td>\n",
       "      <td>Harbourfront</td>\n",
       "      <td>43.6401</td>\n",
       "      <td>-79.3801</td>\n",
       "    </tr>\n",
       "    <tr>\n",
       "      <th>5</th>\n",
       "      <td>M5A</td>\n",
       "      <td>Downtown Toronto</td>\n",
       "      <td>Regent Park</td>\n",
       "      <td>43.6607</td>\n",
       "      <td>-79.3605</td>\n",
       "    </tr>\n",
       "    <tr>\n",
       "      <th>6</th>\n",
       "      <td>M6A</td>\n",
       "      <td>North York</td>\n",
       "      <td>Lawrence Heights</td>\n",
       "      <td>43.7228</td>\n",
       "      <td>-79.4509</td>\n",
       "    </tr>\n",
       "  </tbody>\n",
       "</table>\n",
       "</div>"
      ],
      "text/plain": [
       "  Postcode           Borough     Neighbourhood Latitude Longitude\n",
       "2      M3A        North York         Parkwoods  43.7588  -79.3202\n",
       "3      M4A        North York  Victoria Village  43.7327  -79.3112\n",
       "4      M5A  Downtown Toronto      Harbourfront  43.6401  -79.3801\n",
       "5      M5A  Downtown Toronto       Regent Park  43.6607  -79.3605\n",
       "6      M6A        North York  Lawrence Heights  43.7228  -79.4509"
      ]
     },
     "execution_count": 178,
     "metadata": {},
     "output_type": "execute_result"
    }
   ],
   "source": [
    "#!conda install -c conda-forge geocoder --yes \n",
    "from geopy.geocoders import Nominatim # module to convert an address into latitude and longitude values\n",
    "from ipywidgets import IntProgress\n",
    "from IPython.display import display\n",
    "\n",
    "n_neighborhoods = df.shape[0]\n",
    "\n",
    "# progress bar\n",
    "f = IntProgress(min=0, max=n_neighborhoods) # instantiate the bar\n",
    "display(f) # display the bar\n",
    "\n",
    "# geocode neighborhoods\n",
    "geolocator = Nominatim(user_agent=\"my_agent\")\n",
    "for i in range(n_neighborhoods):\n",
    "    row = df.iloc[i]\n",
    "    address = (row.Neighbourhood + \", Toronto, ON\")# + row.Postcode)\n",
    "#    address = address.replace(\"Downtown\",\"\")\n",
    "\n",
    "    try: \n",
    "        location = geolocator.geocode(address)\n",
    "        df.loc[df['Neighbourhood']==row.Neighbourhood,'Latitude'] = location.latitude\n",
    "        df.loc[df['Neighbourhood']==row.Neighbourhood,'Longitude'] = location.longitude\n",
    "    except:\n",
    "        print(address+\" not found\")\n",
    "\n",
    "    f.value = i #progressbar\n",
    "\n",
    "df.head()"
   ]
  }
 ],
 "metadata": {
  "kernelspec": {
   "display_name": "Python 3",
   "language": "python",
   "name": "python3"
  },
  "language_info": {
   "codemirror_mode": {
    "name": "ipython",
    "version": 3
   },
   "file_extension": ".py",
   "mimetype": "text/x-python",
   "name": "python",
   "nbconvert_exporter": "python",
   "pygments_lexer": "ipython3",
   "version": "3.6.8"
  }
 },
 "nbformat": 4,
 "nbformat_minor": 2
}
